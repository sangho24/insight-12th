{
 "cells": [
  {
   "cell_type": "markdown",
   "id": "d51a61dd",
   "metadata": {},
   "source": [
    "# 분류 이론\n",
    "저번 세션에서 배운 분류 이론을 복습해봅시다.\n",
    "\n",
    "노션에 있는 분류 이론 파트를 참고해도 좋아요! \n",
    "\n",
    "내용을 다시 읽어보면서 정리한다는 느낌으로 문제를 풀어주세요."
   ]
  },
  {
   "cell_type": "markdown",
   "id": "d0b92f6a",
   "metadata": {},
   "source": [
    "##\n",
    "***머신러닝이 무엇인지 설명하세요.***"
   ]
  },
  {
   "cell_type": "markdown",
   "id": "af0d72df",
   "metadata": {},
   "source": [
    "답: 인공지능의 한 분야, 컴퓨터가 스스로 학습할 수 있도록 도와주는 알고리즘이나 기술을 개발하는 분야이다. 쉽게 말해 새로운 데이터를 예측하거나 결정을 내릴 수 있도록 모델을 만드는 기술이다. 머신러닝을 통해 데이터에서 패턴을 찾아내고, 이 패턴을 바탕으로 새로운 데이터에 대한 예측을 수행한다."
   ]
  },
  {
   "cell_type": "markdown",
   "id": "2f7acbdf",
   "metadata": {},
   "source": [
    "##\n",
    "***머신러닝에는 지도학습과 비지도학습이 있습니다. 지도학습과 비지도학습의 차이를 설명해주세요.***"
   ]
  },
  {
   "cell_type": "markdown",
   "id": "18d53342",
   "metadata": {},
   "source": [
    "답: 지도학습은 정답이 있는, 혹은 정답으로 간주할 수 있는 데이터로 학습을 하는 경우를 말한다. 다시 말해, 문제와 정답을 모두 알려주고 공부를 시키는 방법이다. 반면 비지도학습은 정답이 없는 데이터를 학습하는 경우를 이야기하며, 쉽게 말해 답을 가르쳐주지 않고 공부시키는 방법이다. "
   ]
  },
  {
   "cell_type": "markdown",
   "id": "4a73ef87",
   "metadata": {},
   "source": [
    "##\n",
    "***대표적인 지도학습 모델로는 회귀와 분류가 있습니다. 회귀와 분류의 차이를 설명해주세요.***"
   ]
  },
  {
   "cell_type": "markdown",
   "id": "dad9ee24",
   "metadata": {},
   "source": [
    "답: 회귀와 분류 모두 지도학습의 일종으로, 예측값과 정답이 최대한 같아지도록 학습한다는 점에서 공통점을 갖는다. 하지만 회귀는 연속적인 숫자값을, 분류는 입력된 데이터를 주어진 항목으로 나눈다는 점에서 차이점을 갖는다. 다시 말해 회귀는 데이터가 예측하는 종속변수가 연속형 변수일 때 사용하고, 분류는 범주형 변수일 때 사용한다. "
   ]
  },
  {
   "cell_type": "markdown",
   "id": "14de61db",
   "metadata": {},
   "source": [
    "##\n",
    "***이진분류와 다중분류의 차이를 설명해주세요.***"
   ]
  },
  {
   "cell_type": "markdown",
   "id": "c1740665",
   "metadata": {},
   "source": [
    "답: 이진 분류는 예측하고자 하는 종속 변수가 어떤 기준에 대해 참 또는 거짓, 0 또는 1 등의 값만을 가지는 경우를 가리키며, 다중 분류는 가질 수 있는 값이 A, B, C, ... 와 같이 3개 이상인 경우를 가리킨다."
   ]
  },
  {
   "cell_type": "markdown",
   "id": "49ec4ade",
   "metadata": {},
   "source": [
    "##\n",
    "***세션에서 공부한 네 종류의 분류 모델을 써 주세요.***"
   ]
  },
  {
   "cell_type": "markdown",
   "id": "c3ec7b0e",
   "metadata": {},
   "source": [
    "답: 로지스틱 회귀 / 결정 나무 / 서포트벡터머신 / KNN\n",
    "\n",
    "1) 로지스틱 회귀 : 이진 분류 문제를 해결하는 데 적합. 분류 예측을 효과적으로 수행하기 위해서는 출력이 0과 1 사이의 값을 가지며 S자 형태로 그려지는 함수를 이용해야 함 -> 시그모이드 함수 사용 -> 출력 값이 특정 값 이상이면 1, 특정값 이하면 0으로 정함으로써 이진 분류 문제 해결 가능!\n",
    "2) 결정 나무 : 조건에 따라 데이터 분류, 데이터가 순수한 label의 집합으로 구성될 때까지 분류를 반복하는 모델 -> CART 알고리즘 사용!, 불순도(지니 계수)가 낮아지는 방향으로\n",
    "3) 서포트벡터머신 : 클래스를 분류할 수 있는 다양한 경계선 중 최적의 라인을 찾아내는 알고리즘, feature가 많은 경우에도 효과적으로 사용 가능, 데이터로부터 가장 멀리 떨어져 있는 결정 경계 선택!\n",
    "4) KNN : 비슷한 특성을 가진 데이터끼리 서로 가까이에 있다는 점을 고려한 분류 알고리즘, 거리가 가까운 k개의 다른 데이터 레이블을 참조하여 분류하는 알고리즘, 훈련이 필요하지 않지만, 쿼리를 처리하는 데 시간이 오래 소요된다는 단점"
   ]
  },
  {
   "cell_type": "markdown",
   "id": "ed2a1b55",
   "metadata": {},
   "source": [
    "# 분류 실습: 탑승한 항구를 예측하는 다중 분류 모델 만들기\n",
    "저번 세션 시간에, 타이타닉 데이터셋을 이용해 **생존 여부(Survived)** 를 예측하는 분류 모델을 만들었었습니다.\n",
    "\n",
    "그 모델은 **Survived/Not Survived** 를 예측하는 **이진 분류 모델** 이었습니다.\n",
    "\n",
    "이번 과제에서는, **탑승한 항구(Embarked)** 를 예측하는 **다중 분류 모델** 을 만들어 볼 것입니다.\n",
    "\n",
    "(탑승한 항구 컬럼의 값은 S, C, Q로 나뉘기 때문에, '이진 분류'가 아닌 '다중 분류'를 사용합니다.)"
   ]
  },
  {
   "cell_type": "markdown",
   "id": "a7bd3b34",
   "metadata": {},
   "source": [
    "📌 어떤 사람에 대한 정보가 주어졌을 때, **그 사람이 어떤 항구에서 탑승했는지 예측하는 모델**만들어봅시다.\n",
    "- 주어지는 정보: 생존 여부, 좌석 등급, 성별, 나이 등의 정보 (모델의 독립 변수)\n",
    "- 예측하고자 하는 정보: 탑승한 항구 (모델의 종속 변수)\n",
    "\n",
    "[ 변수 설명 ]\n",
    "\n",
    "- PassengerId : 각 승객의 고유 번호\n",
    "\n",
    "- Survived : 생존 여부(종속 변수)\n",
    "\n",
    "        0 = 사망\n",
    "        1 = 생존\n",
    " \n",
    "- Pclass : 객실 등급 - 승객의 사회적, 경제적 지위\n",
    "\n",
    "        1st = Upper\n",
    "        2nd = Middle\n",
    "        3rd = Lower\n",
    "\n",
    "- Name : 이름\n",
    "\n",
    "- Sex : 성별\n",
    "\n",
    "- Age : 나이\n",
    "\n",
    "- SibSp : 동반한 Sibling(형제자매)와 Spouse(배우자)의 수\n",
    "\n",
    "- Parch : 동반한 Parent(부모) Child(자식)의 수\n",
    "\n",
    "- Ticket : 티켓의 고유넘버\n",
    "\n",
    "- Fare : 티켓의 요금\n",
    "\n",
    "- Cabin : 객실 번호\n",
    "\n",
    "- Embarked : 승선한 항"
   ]
  },
  {
   "cell_type": "markdown",
   "id": "37822baa",
   "metadata": {},
   "source": [
    "## 데이터 읽기 및 전처리"
   ]
  },
  {
   "cell_type": "code",
   "execution_count": 1,
   "id": "ab65413a",
   "metadata": {},
   "outputs": [
    {
     "name": "stderr",
     "output_type": "stream",
     "text": [
      "C:\\Users\\owner\\AppData\\Local\\Temp\\ipykernel_23764\\820972683.py:10: FutureWarning: Setting an item of incompatible dtype is deprecated and will raise in a future error of pandas. Value 'Mr' has dtype incompatible with int64, please explicitly cast to a compatible dtype first.\n",
      "  df.at[index, 'Initial'] = initial_search\n"
     ]
    }
   ],
   "source": [
    "import seaborn as sns\n",
    "import pandas as pd\n",
    "import numpy as np\n",
    "\n",
    "df = pd.read_csv(\"./titanic.csv\")\n",
    "\n",
    "df['Initial'] = 0 # initial 컬럼을 만들고 일시적으로 값을 0으로 초기화\n",
    "for index, row in df.iterrows():\n",
    "    initial_search = row['Name'].split(',')[1].split('.')[0].strip() # Name 컬럼에서 .(dot)을 기준으로 알파벳 문자열 추출\n",
    "    df.at[index, 'Initial'] = initial_search\n",
    "\n",
    "# 유추 가능한 값들로 대체하고, 흔하지 않은 Initial들은 Other로 대체하겠습니다.\n",
    "df['Initial'].replace([\n",
    "    'Mlle', 'Mme', 'Ms', 'Dr', 'Major', 'Lady', 'Countess', 'Jonkheer', 'Col',\n",
    "    'Rev', 'Capt', 'Sir', 'Don','the Countess' \n",
    "], [\n",
    "    'Miss', 'Miss', 'Miss', 'Mr', 'Mr', 'Mrs', 'Mrs', 'Other', 'Other',\n",
    "    'Other', 'Mr', 'Mr', 'Mr', 'Other'\n",
    "],\n",
    "    inplace=True)\n",
    "\n",
    "# 결측값을 Initial별 평균값으로 대체\n",
    "df.loc[(df.Age.isnull()) & (df.Initial == 'Mr'), 'Age'] = 33\n",
    "df.loc[(df.Age.isnull()) & (df.Initial == 'Mrs'), 'Age'] = 36\n",
    "df.loc[(df.Age.isnull()) & (df.Initial == 'Master'), 'Age'] = 5\n",
    "df.loc[(df.Age.isnull()) & (df.Initial == 'Miss'), 'Age'] = 22\n",
    "df.loc[(df.Age.isnull()) & (df.Initial == 'Other'), 'Age'] = 46\n",
    "\n",
    "df.dropna(subset=['Embarked'], inplace=True)\n",
    "df.drop(['Cabin','Name','PassengerId','Ticket'], axis=1, inplace=True)\n",
    "\n",
    "# 나중에 사용하기 위해 원본 데이터프레임을 저장해둡니다.\n",
    "df_org = df.copy()\n",
    "\n",
    "df['Relatives'] = df[\"SibSp\"] + df[\"Parch\"]\n",
    "\n",
    "# Sex 열 인코딩\n",
    "df['Sex'] = df['Sex'].map({'male': 0, 'female': 1})\n",
    "# Age 열을 10년 단위로 나누어 인코딩\n",
    "df['Age'] = (df['Age'] // 10).astype(int)\n",
    "# Fare 열을 9분위로 구간화하고 인코딩\n",
    "df['Fare'] = pd.qcut(df['Fare'], q=9, labels=range(9))\n",
    "# Embarked 열 인코딩\n",
    "df['Embarked'] = df['Embarked'].map({'S': 1, 'C': 2, 'Q': 3})\n",
    "# Initial 열 인코딩\n",
    "initial_mapping = {'Mr': 0, 'Miss': 1, 'Mrs': 2, 'Master': 3, 'Other':4}\n",
    "df['Initial'] = df['Initial'].map(initial_mapping)"
   ]
  },
  {
   "cell_type": "markdown",
   "id": "49adf59a",
   "metadata": {},
   "source": [
    "## 다중 분류 모델 target과 feature 정의"
   ]
  },
  {
   "cell_type": "markdown",
   "id": "6a3aa332",
   "metadata": {},
   "source": [
    "앞서 말했지만, 우리의 목표는 어떤 사람의 정보가 주어졌을 때 그 사람이 탑승한 항구를 예측하는 것입니다. 모델의 target과 feature가 무엇인지 정의해주세요."
   ]
  },
  {
   "cell_type": "markdown",
   "id": "07a1d5eb",
   "metadata": {},
   "source": [
    "- feature(예측을 위해 주어지는 정보 = 독립 변수): ***(답) 한 사람에 대한 정보 = Survived, Pclass, Sex, Age, SibSp, Parch, Fare, Initial, Relatives***\n",
    "- target(예측하고자 하는 값 = 종속 변수): ***(답) Embarked***"
   ]
  },
  {
   "cell_type": "markdown",
   "id": "1e4b46e0",
   "metadata": {},
   "source": [
    "이 target과 feature에 따라 생존 여부를 예측하는 함수 predict_survival를 정의합니다.\n",
    "\n",
    "이 함수에 model과 독립 변수들을 넣어주면, 승선한 항 예측 값과 확률을 반환합니다.\n",
    "\n",
    "- 함수의 input: model, scaler, 독립 변수(pclass, sex, age, sibsp, parch, fare, survived, initial)\n",
    "- 함수의 output: 승선한 항구, 확률"
   ]
  },
  {
   "cell_type": "code",
   "execution_count": 2,
   "id": "3a81fb7e",
   "metadata": {},
   "outputs": [],
   "source": [
    "# predict_survival 함수 정의\n",
    "def predict_survival(model, scaler, survived, pclass, sex, age, sibsp, parch, fare, initial):\n",
    "    # 입력된 데이터를 데이터프레임으로 변환합니다.\n",
    "    # 위에서 피처엔지니어링한 방식대로(모델의 input으로 적절하게) input 값을 변환해줍니다. \n",
    "    input_data = pd.DataFrame({\n",
    "        'Survived': [survived],\n",
    "        'Pclass': [pclass],\n",
    "        'Sex': [0 if sex == 'male' else 1],  # 성별을 인코딩합니다.\n",
    "        'Age': [age // 10],  # 나이를 10년 단위로 나눕니다.\n",
    "        'SibSp': [sibsp],\n",
    "        'Parch': [parch],\n",
    "        'Fare': [fare],  # 요금을 일단 그대로 둡니다.\n",
    "        'Initial': [0 if initial == 'Mr' else (1 if initial == 'Miss' else (2 if initial == 'Mrs' else (3 if initial == 'Master' else 4)))],  # 호칭을 인코딩합니다.\n",
    "        'Relatives': [sibsp + parch],\n",
    "    })\n",
    "    \n",
    "    # 'Fare' 값을 qcut으로 생성된 bins를 사용해 범주화합니다.\n",
    "    fare_bins = pd.qcut(df_org['Fare'], 9, retbins=True)[1]  # pd.qcut을 사용해 요금 구간을 얻습니다.\n",
    "    input_data['Fare'] = pd.cut(input_data['Fare'], bins=fare_bins, labels=False, include_lowest=True)\n",
    "\n",
    "\n",
    "    # 입력 데이터를 스케일링합니다.\n",
    "    input_data_scaled = scaler.transform(input_data)\n",
    "    \n",
    "    # 예측을 수행합니다.\n",
    "    prediction = model.predict(input_data_scaled)\n",
    "    prediction_proba = model.predict_proba(input_data_scaled)\n",
    "\n",
    "    # 예측 결과를 반환합니다.\n",
    "    result = \"S\" if prediction == 1 else (\"C\" if prediction == 2 else \"Q\")\n",
    "    probability = prediction_proba[0][int(prediction)]  # 예측된 클래스의 확률을 반환합니다.\n",
    "    \n",
    "    return result, probability"
   ]
  },
  {
   "cell_type": "markdown",
   "id": "81076609",
   "metadata": {},
   "source": [
    "## target과 feature 분리\n",
    "데이터 셋을 target과 feature를 분리합니다.\n",
    "예측하고자 하는 값인 target과 예측하기 위해 주어진 값인 feature를 각각 변수에 담습니다.\n",
    "\n",
    "- target = 종속 변수 (변수명=y): 'Embarked'\n",
    "- feature = 독립 변수 (변수명=X): 'Pclass', 'Sex', 'Age', 'Sibsp', 'Parch', 'Fare', `Survived', 'Initial'\n",
    "\n",
    "[ 참고 ]\n",
    "\n",
    "drop() 함수는 drop한 후의 데이터프레임을 반환합니다.\n",
    "drop('drop하고자 하는 열', axis=1)\n",
    "\n",
    "위에서 주어진 참고 코드를 바탕으로 아래 주석에 맞게 코드를 작성해주세요."
   ]
  },
  {
   "cell_type": "code",
   "execution_count": 3,
   "id": "4bd393bd",
   "metadata": {},
   "outputs": [],
   "source": [
    "# 변수 X에 feature(= 'Embarked' 열을 drop한 데이터프레임)를 담아주세요.\n",
    "X = df.drop('Embarked', axis = 1)"
   ]
  },
  {
   "cell_type": "code",
   "execution_count": 4,
   "id": "63e958b7",
   "metadata": {},
   "outputs": [
    {
     "data": {
      "text/html": [
       "<div>\n",
       "<style scoped>\n",
       "    .dataframe tbody tr th:only-of-type {\n",
       "        vertical-align: middle;\n",
       "    }\n",
       "\n",
       "    .dataframe tbody tr th {\n",
       "        vertical-align: top;\n",
       "    }\n",
       "\n",
       "    .dataframe thead th {\n",
       "        text-align: right;\n",
       "    }\n",
       "</style>\n",
       "<table border=\"1\" class=\"dataframe\">\n",
       "  <thead>\n",
       "    <tr style=\"text-align: right;\">\n",
       "      <th></th>\n",
       "      <th>Survived</th>\n",
       "      <th>Pclass</th>\n",
       "      <th>Sex</th>\n",
       "      <th>Age</th>\n",
       "      <th>SibSp</th>\n",
       "      <th>Parch</th>\n",
       "      <th>Fare</th>\n",
       "      <th>Initial</th>\n",
       "      <th>Relatives</th>\n",
       "    </tr>\n",
       "  </thead>\n",
       "  <tbody>\n",
       "    <tr>\n",
       "      <th>0</th>\n",
       "      <td>0</td>\n",
       "      <td>3</td>\n",
       "      <td>0</td>\n",
       "      <td>2</td>\n",
       "      <td>1</td>\n",
       "      <td>0</td>\n",
       "      <td>0</td>\n",
       "      <td>0</td>\n",
       "      <td>1</td>\n",
       "    </tr>\n",
       "    <tr>\n",
       "      <th>1</th>\n",
       "      <td>1</td>\n",
       "      <td>1</td>\n",
       "      <td>1</td>\n",
       "      <td>3</td>\n",
       "      <td>1</td>\n",
       "      <td>0</td>\n",
       "      <td>7</td>\n",
       "      <td>2</td>\n",
       "      <td>1</td>\n",
       "    </tr>\n",
       "    <tr>\n",
       "      <th>2</th>\n",
       "      <td>1</td>\n",
       "      <td>3</td>\n",
       "      <td>1</td>\n",
       "      <td>2</td>\n",
       "      <td>0</td>\n",
       "      <td>0</td>\n",
       "      <td>2</td>\n",
       "      <td>1</td>\n",
       "      <td>0</td>\n",
       "    </tr>\n",
       "    <tr>\n",
       "      <th>3</th>\n",
       "      <td>1</td>\n",
       "      <td>1</td>\n",
       "      <td>1</td>\n",
       "      <td>3</td>\n",
       "      <td>1</td>\n",
       "      <td>0</td>\n",
       "      <td>7</td>\n",
       "      <td>2</td>\n",
       "      <td>1</td>\n",
       "    </tr>\n",
       "    <tr>\n",
       "      <th>4</th>\n",
       "      <td>0</td>\n",
       "      <td>3</td>\n",
       "      <td>0</td>\n",
       "      <td>3</td>\n",
       "      <td>0</td>\n",
       "      <td>0</td>\n",
       "      <td>2</td>\n",
       "      <td>0</td>\n",
       "      <td>0</td>\n",
       "    </tr>\n",
       "    <tr>\n",
       "      <th>...</th>\n",
       "      <td>...</td>\n",
       "      <td>...</td>\n",
       "      <td>...</td>\n",
       "      <td>...</td>\n",
       "      <td>...</td>\n",
       "      <td>...</td>\n",
       "      <td>...</td>\n",
       "      <td>...</td>\n",
       "      <td>...</td>\n",
       "    </tr>\n",
       "    <tr>\n",
       "      <th>886</th>\n",
       "      <td>0</td>\n",
       "      <td>2</td>\n",
       "      <td>0</td>\n",
       "      <td>2</td>\n",
       "      <td>0</td>\n",
       "      <td>0</td>\n",
       "      <td>3</td>\n",
       "      <td>4</td>\n",
       "      <td>0</td>\n",
       "    </tr>\n",
       "    <tr>\n",
       "      <th>887</th>\n",
       "      <td>1</td>\n",
       "      <td>1</td>\n",
       "      <td>1</td>\n",
       "      <td>1</td>\n",
       "      <td>0</td>\n",
       "      <td>0</td>\n",
       "      <td>6</td>\n",
       "      <td>1</td>\n",
       "      <td>0</td>\n",
       "    </tr>\n",
       "    <tr>\n",
       "      <th>888</th>\n",
       "      <td>0</td>\n",
       "      <td>3</td>\n",
       "      <td>1</td>\n",
       "      <td>2</td>\n",
       "      <td>1</td>\n",
       "      <td>2</td>\n",
       "      <td>5</td>\n",
       "      <td>1</td>\n",
       "      <td>3</td>\n",
       "    </tr>\n",
       "    <tr>\n",
       "      <th>889</th>\n",
       "      <td>1</td>\n",
       "      <td>1</td>\n",
       "      <td>0</td>\n",
       "      <td>2</td>\n",
       "      <td>0</td>\n",
       "      <td>0</td>\n",
       "      <td>6</td>\n",
       "      <td>0</td>\n",
       "      <td>0</td>\n",
       "    </tr>\n",
       "    <tr>\n",
       "      <th>890</th>\n",
       "      <td>0</td>\n",
       "      <td>3</td>\n",
       "      <td>0</td>\n",
       "      <td>3</td>\n",
       "      <td>0</td>\n",
       "      <td>0</td>\n",
       "      <td>1</td>\n",
       "      <td>0</td>\n",
       "      <td>0</td>\n",
       "    </tr>\n",
       "  </tbody>\n",
       "</table>\n",
       "<p>889 rows × 9 columns</p>\n",
       "</div>"
      ],
      "text/plain": [
       "     Survived  Pclass  Sex  Age  SibSp  Parch Fare  Initial  Relatives\n",
       "0           0       3    0    2      1      0    0        0          1\n",
       "1           1       1    1    3      1      0    7        2          1\n",
       "2           1       3    1    2      0      0    2        1          0\n",
       "3           1       1    1    3      1      0    7        2          1\n",
       "4           0       3    0    3      0      0    2        0          0\n",
       "..        ...     ...  ...  ...    ...    ...  ...      ...        ...\n",
       "886         0       2    0    2      0      0    3        4          0\n",
       "887         1       1    1    1      0      0    6        1          0\n",
       "888         0       3    1    2      1      2    5        1          3\n",
       "889         1       1    0    2      0      0    6        0          0\n",
       "890         0       3    0    3      0      0    1        0          0\n",
       "\n",
       "[889 rows x 9 columns]"
      ]
     },
     "execution_count": 4,
     "metadata": {},
     "output_type": "execute_result"
    }
   ],
   "source": [
    "X"
   ]
  },
  {
   "cell_type": "code",
   "execution_count": 5,
   "id": "3f73cbb4",
   "metadata": {},
   "outputs": [],
   "source": [
    "# 변수 y에 target(= 'Embarked' 열)을 담아주세요.\n",
    "y = df[['Embarked']]"
   ]
  },
  {
   "cell_type": "code",
   "execution_count": 6,
   "id": "c3ee19ac",
   "metadata": {},
   "outputs": [
    {
     "data": {
      "text/html": [
       "<div>\n",
       "<style scoped>\n",
       "    .dataframe tbody tr th:only-of-type {\n",
       "        vertical-align: middle;\n",
       "    }\n",
       "\n",
       "    .dataframe tbody tr th {\n",
       "        vertical-align: top;\n",
       "    }\n",
       "\n",
       "    .dataframe thead th {\n",
       "        text-align: right;\n",
       "    }\n",
       "</style>\n",
       "<table border=\"1\" class=\"dataframe\">\n",
       "  <thead>\n",
       "    <tr style=\"text-align: right;\">\n",
       "      <th></th>\n",
       "      <th>Embarked</th>\n",
       "    </tr>\n",
       "  </thead>\n",
       "  <tbody>\n",
       "    <tr>\n",
       "      <th>0</th>\n",
       "      <td>1</td>\n",
       "    </tr>\n",
       "    <tr>\n",
       "      <th>1</th>\n",
       "      <td>2</td>\n",
       "    </tr>\n",
       "    <tr>\n",
       "      <th>2</th>\n",
       "      <td>1</td>\n",
       "    </tr>\n",
       "    <tr>\n",
       "      <th>3</th>\n",
       "      <td>1</td>\n",
       "    </tr>\n",
       "    <tr>\n",
       "      <th>4</th>\n",
       "      <td>1</td>\n",
       "    </tr>\n",
       "    <tr>\n",
       "      <th>...</th>\n",
       "      <td>...</td>\n",
       "    </tr>\n",
       "    <tr>\n",
       "      <th>886</th>\n",
       "      <td>1</td>\n",
       "    </tr>\n",
       "    <tr>\n",
       "      <th>887</th>\n",
       "      <td>1</td>\n",
       "    </tr>\n",
       "    <tr>\n",
       "      <th>888</th>\n",
       "      <td>1</td>\n",
       "    </tr>\n",
       "    <tr>\n",
       "      <th>889</th>\n",
       "      <td>2</td>\n",
       "    </tr>\n",
       "    <tr>\n",
       "      <th>890</th>\n",
       "      <td>3</td>\n",
       "    </tr>\n",
       "  </tbody>\n",
       "</table>\n",
       "<p>889 rows × 1 columns</p>\n",
       "</div>"
      ],
      "text/plain": [
       "     Embarked\n",
       "0           1\n",
       "1           2\n",
       "2           1\n",
       "3           1\n",
       "4           1\n",
       "..        ...\n",
       "886         1\n",
       "887         1\n",
       "888         1\n",
       "889         2\n",
       "890         3\n",
       "\n",
       "[889 rows x 1 columns]"
      ]
     },
     "execution_count": 6,
     "metadata": {},
     "output_type": "execute_result"
    }
   ],
   "source": [
    "y"
   ]
  },
  {
   "cell_type": "markdown",
   "id": "c6f1860e",
   "metadata": {},
   "source": [
    "## 데이터 셋을 훈련 세트와 테스트 세트로 나누기\n",
    "- 훈련 세트 -> 모델을 학습시키는 데 사용됩니다.\n",
    "- 테스트 세트 -> 완성된 모델을 평가하는 데 사용됩니다.\n",
    "\n",
    "독립변수(X)와 종속변수(y)를 모두 훈련 세트와 테스트 세트로 나누어봅시다.\n",
    "\n",
    "[ 변수명 ]\n",
    "\n",
    "- 독립변수 훈련 세트: X_train\n",
    "- 독립변수 테스트 세트: X_test\n",
    "- 종속변수 훈련 세트: y_train\n",
    "- 종속변수 테스트 세트: y_test\n",
    "\n",
    "[ 참고 ]\n",
    "\n",
    "tran_test_split 함수는 변수를 훈련 세트와 테스트 세트로 나누어 반환합니다.\n",
    "~~~\n",
    "train_test_split(독립변수, 종속변수, test_size=테스트 세트 크기, random_state=시드값)\n",
    "~~~\n",
    "-> 독립변수 훈련 세트, 독립변수 테스트 세트, 종속변수 훈련 세트, 종속변수 테스트 세트 반환\n",
    "\n",
    "- test_size: 테스트 세트의 크기를 결정합니다. 예를 들어, 훈련 세트와 테스트 세트를 각각 70%와 30%로 하고 싶으면, test_size=0.3으로 하면 됩니다.\n",
    "- random_state: 임의의 숫자로 설정된 시드로, 어떤 숫자를 사용해도 상관없습니다.\n",
    "\n",
    "위에서 주어진 참고 코드를 바탕으로 아래 주석에 맞게 코드를 작성해주세요."
   ]
  },
  {
   "cell_type": "code",
   "execution_count": 7,
   "id": "024dfaf2",
   "metadata": {},
   "outputs": [],
   "source": [
    "# sklearn.model_selectio의 train_test_split 함수를 import 해주세요.\n",
    "from sklearn.model_selection import train_test_split\n",
    "# tran_test_split 함수를 이용하여 독립변수(X)와 종속변수(y)를 각각 훈련 세트와 테스트 세트로 나누어주세요. 각 훈련 세트와 테스트 세트의 변수 명은 아래와 같습니다.\n",
    "# 독립변수 훈련 세트: X_train, 독립변수 테스트 세트: X_test, 종속변수 훈련 세트: y_train, 종속변수 테스트 세트: y_test\n",
    "# 단, random_state는 42로 합니다.\n",
    "X_train, X_test, y_train, y_test = train_test_split(X, y, test_size = 0.2, random_state = 42)"
   ]
  },
  {
   "cell_type": "markdown",
   "id": "83edcb2f",
   "metadata": {},
   "source": [
    "# feature에 scaler 적용\n",
    "MinMaxScaler를 이용해서 모든 feature(독립변수, X)를 스케일링 해줍니다. \n",
    "\n",
    "[ 변수명 ]\n",
    "- 스케일링된 독립변수 훈련 세트: X_train_scaled\n",
    "- 스케일링된 독립변수 테스트 세트: X_test_scaled\n",
    "\n",
    "[ 참고 ]\n",
    "\n",
    "1. MinMaxScaler 함수는 MinMaxScaler를 반환합니다.\n",
    "~~~\n",
    "MinMaxScaler()\n",
    "~~~\n",
    "2. fit_transform 함수는 훈련 데이터의 스케일링을 수행하고, 스케일링된 데이터를 반환합니다.\n",
    "~~~\n",
    "스케일러.fit_transform(훈련 데이터)\n",
    "~~~\n",
    "3. transform 함수는 테스트 데이터의 스케일링을 수행하고, 스케일링된 데이터를 반환합니다.\n",
    "~~~\n",
    "스케일러.transform(테스트 데이터)\n",
    "~~~\n",
    "\n",
    "cf) 훈련 데이터에 대해서는 fit과 transform을, 테스트 데이터에 대해서는 transform만을 수행합니다.\n",
    "\n",
    "위에서 주어진 참고 코드를 바탕으로 아래 주석에 맞게 코드를 작성해주세요."
   ]
  },
  {
   "cell_type": "code",
   "execution_count": 8,
   "id": "8137a03b",
   "metadata": {},
   "outputs": [],
   "source": [
    "# sklearn.preprocessing에서 MinMaxScaler를 import 해옵니다.\n",
    "from sklearn.preprocessing import MinMaxScaler\n",
    "\n",
    "# scaler라는 변수를 MinMaxScaler 함수로 선언합니다.\n",
    "scaler = MinMaxScaler()\n",
    "\n",
    "# X_train_scaled라는 변수에 스케일링된 독립변수 훈련 세트를 저장합니다.\n",
    "X_train_scaled = scaler.fit_transform(X_train)\n",
    "\n",
    "# X_test_scaled라는 변수에 스케일링된 독립변수 테스트 세트를 저장합니다.\n",
    "X_test_scaled = scaler.transform(X_test)"
   ]
  },
  {
   "cell_type": "markdown",
   "id": "67c5c414",
   "metadata": {},
   "source": [
    "## 모델 생성 및 평가\n",
    "위에서 만든 함수에 input으로 들어갈 model을 만듭니다. 총 4개의 다중 분류 모델을 만들어볼 것입니다.\n",
    "1. 로지스틱 회귀\n",
    "2. 의사 결정 나무\n",
    "3. 서포트벡터머신(SVM)\n",
    "4. kNN\n",
    "\n",
    "또한, 생성한 모델들을 다음과 같은 방식으로 평가합니다.\n",
    "1. accuracy\n",
    "2. 분류 보고서\n",
    "\n",
    "cf) 혼동 행렬은 이진분류에 대해 만들어지므로, 이번 실습에서 사용하지 않습니다."
   ]
  },
  {
   "cell_type": "markdown",
   "id": "ac6f4e36",
   "metadata": {},
   "source": [
    "### 로지스틱 회귀\n",
    "로지스틱 회귀 이진 분류 모델을 생성합니다.\n",
    "sklearn 라이브러리는 로지스틱 회귀 모델(LogisticRegression)을 제공합니다.\n",
    "\n",
    "[ 참고 ]\n",
    "로지스틱 회귀 모델 생성 함수\n",
    "~~~\n",
    "LogisticRegression()\n",
    "~~~\n",
    "위에서 주어진 참고 코드를 바탕으로 아래 주석에 맞게 코드를 작성해주세요."
   ]
  },
  {
   "cell_type": "code",
   "execution_count": 9,
   "id": "a365483f",
   "metadata": {},
   "outputs": [],
   "source": [
    "# sklearn.linear_model에서 LogisticRegression 함수를 import 해오세요.\n",
    "from sklearn.linear_model import LogisticRegression\n",
    "\n",
    "# lr_model을 변수명으로 해서 로지스틱회귀 모델 객체를 생성하세요.\n",
    "lr_model = LogisticRegression()"
   ]
  },
  {
   "cell_type": "markdown",
   "id": "2bdfa6f2",
   "metadata": {},
   "source": [
    "이제 모델을 학습하고, 평가해보도록 하겠습니다."
   ]
  },
  {
   "cell_type": "code",
   "execution_count": 10,
   "id": "b57eab71",
   "metadata": {},
   "outputs": [
    {
     "name": "stdout",
     "output_type": "stream",
     "text": [
      "로지스틱 회귀 모델의 정확도: 0.7303370786516854\n",
      "              precision    recall  f1-score   support\n",
      "\n",
      "           1       0.73      1.00      0.84       130\n",
      "           2       0.00      0.00      0.00        36\n",
      "           3       0.00      0.00      0.00        12\n",
      "\n",
      "    accuracy                           0.73       178\n",
      "   macro avg       0.24      0.33      0.28       178\n",
      "weighted avg       0.53      0.73      0.62       178\n",
      "\n"
     ]
    },
    {
     "name": "stderr",
     "output_type": "stream",
     "text": [
      "C:\\Users\\owner\\anaconda3\\anaconda\\Lib\\site-packages\\sklearn\\utils\\validation.py:1339: DataConversionWarning: A column-vector y was passed when a 1d array was expected. Please change the shape of y to (n_samples, ), for example using ravel().\n",
      "  y = column_or_1d(y, warn=True)\n",
      "C:\\Users\\owner\\anaconda3\\anaconda\\Lib\\site-packages\\sklearn\\metrics\\_classification.py:1531: UndefinedMetricWarning: Precision is ill-defined and being set to 0.0 in labels with no predicted samples. Use `zero_division` parameter to control this behavior.\n",
      "  _warn_prf(average, modifier, f\"{metric.capitalize()} is\", len(result))\n",
      "C:\\Users\\owner\\anaconda3\\anaconda\\Lib\\site-packages\\sklearn\\metrics\\_classification.py:1531: UndefinedMetricWarning: Precision is ill-defined and being set to 0.0 in labels with no predicted samples. Use `zero_division` parameter to control this behavior.\n",
      "  _warn_prf(average, modifier, f\"{metric.capitalize()} is\", len(result))\n",
      "C:\\Users\\owner\\anaconda3\\anaconda\\Lib\\site-packages\\sklearn\\metrics\\_classification.py:1531: UndefinedMetricWarning: Precision is ill-defined and being set to 0.0 in labels with no predicted samples. Use `zero_division` parameter to control this behavior.\n",
      "  _warn_prf(average, modifier, f\"{metric.capitalize()} is\", len(result))\n"
     ]
    }
   ],
   "source": [
    "from sklearn.model_selection import train_test_split\n",
    "from sklearn.metrics import accuracy_score, classification_report\n",
    "from sklearn.preprocessing import StandardScaler, MinMaxScaler\n",
    "\n",
    "# 모델 학습\n",
    "lr_model.fit(X_train_scaled, y_train)\n",
    "\n",
    "# 예측 결과 생성\n",
    "lr_pred = lr_model.predict(X_test_scaled)\n",
    "\n",
    "# 정확도 측정\n",
    "lr_accuracy = accuracy_score(y_test, lr_pred)\n",
    "print(\"로지스틱 회귀 모델의 정확도:\", lr_accuracy)\n",
    "\n",
    "# 분류 보고서 생성\n",
    "lr_report = classification_report(y_test, lr_pred)\n",
    "print(lr_report)"
   ]
  },
  {
   "cell_type": "markdown",
   "id": "dad2b3a8",
   "metadata": {},
   "source": [
    "이제, 생성한 모델을 사용해보겠습니다.\n",
    "\n",
    "2번에서 행성했던 predict_survival 함수를 사용하여 예측값과 확률을 구합니다.\n",
    "\n",
    "아래는 어떤 사람에 대한 정보입니다. 생성한 lr 모델을 이용해서 이 사람이 생존할지 생존하지 못할지, 또 그 예측이 맞을 확률은 어느 정도인지 구하세요.\n",
    "\n",
    "[ 정보 ]\n",
    "- pclass: 2\n",
    "- sex: 'female'\n",
    "- age: 32 \n",
    "- sibsp: 1\n",
    "- parch: 2 \n",
    "- fare: 60\n",
    "- survived: 1\n",
    "- initial: 'Mrs'\n"
   ]
  },
  {
   "cell_type": "code",
   "execution_count": 11,
   "id": "b82e4f0f",
   "metadata": {},
   "outputs": [
    {
     "name": "stderr",
     "output_type": "stream",
     "text": [
      "C:\\Users\\owner\\AppData\\Local\\Temp\\ipykernel_23764\\1060574916.py:31: DeprecationWarning: Conversion of an array with ndim > 0 to a scalar is deprecated, and will error in future. Ensure you extract a single element from your array before performing this operation. (Deprecated NumPy 1.25.)\n",
      "  probability = prediction_proba[0][int(prediction)]  # 예측된 클래스의 확률을 반환합니다.\n"
     ]
    },
    {
     "data": {
      "text/plain": [
       "('S', 0.23511793872537282)"
      ]
     },
     "execution_count": 11,
     "metadata": {},
     "output_type": "execute_result"
    }
   ],
   "source": [
    "model = lr_model\n",
    "\n",
    "result, probability = predict_survival(\n",
    "    model, scaler, \n",
    "    survived=1,\n",
    "    pclass=2, sex='female', age=32, \n",
    "    sibsp=1, parch=2, \n",
    "    fare=60, initial='Mrs'\n",
    ")\n",
    "\n",
    "result, probability"
   ]
  },
  {
   "cell_type": "markdown",
   "id": "41d2f735",
   "metadata": {},
   "source": [
    "### 의사 결정 나무\n",
    "이번에는 의사 결정 나무 모델을 만들어보겠습니다. 다른 과정은 모두 똑같고, 로지스틱 회귀 모델 대신 의사 결정 나무 모델을 사용합니다.\n",
    "\n",
    "sklearn 라이브러리는 의사 결정 나무 모델(DecisionTreeClassifier)을 제공합니다.\n",
    "\n",
    "[ 참고 ]\n",
    "의사 결정 나무 모델 생성 함수\n",
    "~~~\n",
    "DecisionTreeClassifier(random_state=시드값)\n",
    "- random_state: 임의의 숫자로 설정된 시드로, 어떤 숫자를 사용해도 상관없습니다.\n",
    "~~~\n",
    "\n",
    "위에서 주어진 참고 코드를 바탕으로 아래 주석에 맞게 코드를 작성해주세요."
   ]
  },
  {
   "cell_type": "code",
   "execution_count": 12,
   "id": "72cf8e76",
   "metadata": {},
   "outputs": [],
   "source": [
    "# sklearn.tree에서 DecisionTreeClassifier를 import 해오세요.\n",
    "from sklearn.tree import DecisionTreeClassifier\n",
    "\n",
    "# tree_model이라는 변수에 의사 결정 나무 모델을 생성해주세요. 단, random_state는 42로 합니다.\n",
    "tree_model = DecisionTreeClassifier(random_state = 42)"
   ]
  },
  {
   "cell_type": "markdown",
   "id": "ce444b31",
   "metadata": {},
   "source": [
    "이제 모델을 학습, 평가하고 사용해보겠습니다."
   ]
  },
  {
   "cell_type": "code",
   "execution_count": 13,
   "id": "f16e6ecb",
   "metadata": {},
   "outputs": [
    {
     "name": "stdout",
     "output_type": "stream",
     "text": [
      "Decision Tree 모델의 정확도: 0.702247191011236\n",
      "              precision    recall  f1-score   support\n",
      "\n",
      "           1       0.77      0.88      0.82       130\n",
      "           2       0.38      0.22      0.28        36\n",
      "           3       0.38      0.25      0.30        12\n",
      "\n",
      "    accuracy                           0.70       178\n",
      "   macro avg       0.51      0.45      0.47       178\n",
      "weighted avg       0.66      0.70      0.67       178\n",
      "\n"
     ]
    },
    {
     "name": "stderr",
     "output_type": "stream",
     "text": [
      "C:\\Users\\owner\\AppData\\Local\\Temp\\ipykernel_23764\\1060574916.py:31: DeprecationWarning: Conversion of an array with ndim > 0 to a scalar is deprecated, and will error in future. Ensure you extract a single element from your array before performing this operation. (Deprecated NumPy 1.25.)\n",
      "  probability = prediction_proba[0][int(prediction)]  # 예측된 클래스의 확률을 반환합니다.\n"
     ]
    },
    {
     "data": {
      "text/plain": [
       "('C', 0.0)"
      ]
     },
     "execution_count": 13,
     "metadata": {},
     "output_type": "execute_result"
    }
   ],
   "source": [
    "# 모델 학습\n",
    "tree_model.fit(X_train_scaled, y_train)\n",
    "\n",
    "# 예측 결과 생성\n",
    "tree_pred = tree_model.predict(X_test_scaled)\n",
    "\n",
    "# 정확도 측정\n",
    "tree_accuracy = accuracy_score(y_test, tree_pred)\n",
    "print(\"Decision Tree 모델의 정확도:\", tree_accuracy)\n",
    "\n",
    "# 분류 보고서 생성\n",
    "tree_report = classification_report(y_test, tree_pred)\n",
    "print(tree_report)\n",
    "\n",
    "model = tree_model\n",
    "\n",
    "result, probability = predict_survival(\n",
    "    model, scaler, \n",
    "    survived=1,\n",
    "    pclass=2, sex='female', age=32, \n",
    "    sibsp=1, parch=2, \n",
    "    fare=60, initial='Mrs'\n",
    ")\n",
    "\n",
    "result, probability"
   ]
  },
  {
   "cell_type": "markdown",
   "id": "21068de6",
   "metadata": {},
   "source": [
    "### 서포트 벡터 머신 (SVM)\n",
    "서포트 벡터 머신 역시 같은 방식으로 모델을 만듭니다.\n",
    "sklearn 라이브러리는 서포트 벡터 머신 분류기(SVC=Support Vector Classification)을 제공합니다.\n",
    "\n",
    "[ 참고 ]\n",
    "서포트 벡터 머신 모델 생성 함수\n",
    "~~~\n",
    "SVC(random_state=시드값, probability=True/False)\n",
    "- random_state: 임의의 숫자로 설정된 시드로, 어떤 숫자를 사용해도 상관없습니다.\n",
    "- probability: 모델이 클래스의 확률을 제공할 수 있도록 하는 옵션입니다.\n",
    "~~~\n",
    "\n",
    "위에서 주어진 참고 코드를 바탕으로 아래 주석에 맞게 코드를 작성해주세요."
   ]
  },
  {
   "cell_type": "code",
   "execution_count": 14,
   "id": "2ad91ac7",
   "metadata": {},
   "outputs": [],
   "source": [
    "# sklearn.svm에서 SVC를 import 해오세요.\n",
    "from sklearn.svm import SVC\n",
    "\n",
    "# svm_model 단, random_state는 42, probability=True로 합니다.\n",
    "svm_model = SVC(random_state = 42, probability = True)"
   ]
  },
  {
   "cell_type": "markdown",
   "id": "78be58a7",
   "metadata": {},
   "source": [
    "이제 모델을 학습, 평가하고 사용해보겠습니다."
   ]
  },
  {
   "cell_type": "code",
   "execution_count": 15,
   "id": "c78b3924",
   "metadata": {},
   "outputs": [
    {
     "name": "stdout",
     "output_type": "stream",
     "text": [
      "SVM 모델의 정확도: 0.7415730337078652\n",
      "              precision    recall  f1-score   support\n",
      "\n",
      "           1       0.74      0.99      0.85       130\n",
      "           2       0.00      0.00      0.00        36\n",
      "           3       0.75      0.25      0.38        12\n",
      "\n",
      "    accuracy                           0.74       178\n",
      "   macro avg       0.50      0.41      0.41       178\n",
      "weighted avg       0.59      0.74      0.65       178\n",
      "\n"
     ]
    },
    {
     "name": "stderr",
     "output_type": "stream",
     "text": [
      "C:\\Users\\owner\\anaconda3\\anaconda\\Lib\\site-packages\\sklearn\\utils\\validation.py:1339: DataConversionWarning: A column-vector y was passed when a 1d array was expected. Please change the shape of y to (n_samples, ), for example using ravel().\n",
      "  y = column_or_1d(y, warn=True)\n",
      "C:\\Users\\owner\\anaconda3\\anaconda\\Lib\\site-packages\\sklearn\\metrics\\_classification.py:1531: UndefinedMetricWarning: Precision is ill-defined and being set to 0.0 in labels with no predicted samples. Use `zero_division` parameter to control this behavior.\n",
      "  _warn_prf(average, modifier, f\"{metric.capitalize()} is\", len(result))\n",
      "C:\\Users\\owner\\anaconda3\\anaconda\\Lib\\site-packages\\sklearn\\metrics\\_classification.py:1531: UndefinedMetricWarning: Precision is ill-defined and being set to 0.0 in labels with no predicted samples. Use `zero_division` parameter to control this behavior.\n",
      "  _warn_prf(average, modifier, f\"{metric.capitalize()} is\", len(result))\n",
      "C:\\Users\\owner\\anaconda3\\anaconda\\Lib\\site-packages\\sklearn\\metrics\\_classification.py:1531: UndefinedMetricWarning: Precision is ill-defined and being set to 0.0 in labels with no predicted samples. Use `zero_division` parameter to control this behavior.\n",
      "  _warn_prf(average, modifier, f\"{metric.capitalize()} is\", len(result))\n",
      "C:\\Users\\owner\\AppData\\Local\\Temp\\ipykernel_23764\\1060574916.py:31: DeprecationWarning: Conversion of an array with ndim > 0 to a scalar is deprecated, and will error in future. Ensure you extract a single element from your array before performing this operation. (Deprecated NumPy 1.25.)\n",
      "  probability = prediction_proba[0][int(prediction)]  # 예측된 클래스의 확률을 반환합니다.\n"
     ]
    },
    {
     "data": {
      "text/plain": [
       "('S', 0.16607683639058698)"
      ]
     },
     "execution_count": 15,
     "metadata": {},
     "output_type": "execute_result"
    }
   ],
   "source": [
    "# 모델 훈련\n",
    "svm_model.fit(X_train_scaled, y_train)\n",
    "\n",
    "# SVM 예측 결과 생성\n",
    "svm_pred = svm_model.predict(X_test_scaled)\n",
    "\n",
    "# 정확도 측정\n",
    "svm_accuracy = accuracy_score(y_test, svm_pred)\n",
    "print(\"SVM 모델의 정확도:\", svm_accuracy)\n",
    "\n",
    "# 분류 보고서 생성\n",
    "svm_report = classification_report(y_test, svm_pred)\n",
    "print(svm_report)\n",
    "\n",
    "# 생성한 모델로 예측값과 확률 도출\n",
    "model = svm_model\n",
    "\n",
    "result, probability = predict_survival(\n",
    "    model, scaler, \n",
    "    survived=1,\n",
    "    pclass=2, sex='female', age=32, \n",
    "    sibsp=1, parch=2, \n",
    "    fare=60, initial='Mrs'\n",
    ")\n",
    "\n",
    "result, probability"
   ]
  },
  {
   "cell_type": "markdown",
   "id": "921903ff",
   "metadata": {},
   "source": [
    "### kNN\n",
    "kNN 역시 같은 방식으로 모델을 만듭니다.\n",
    "sklearn 라이브러리는 kNN 모델(KNeighborsClassifier)을 제공합니다.\n",
    "\n",
    "[ 참고 ]\n",
    "kNN 모델 생성 함수\n",
    "~~~\n",
    "KNeighborsClassifier(n_neighbors=이웃 수)\n",
    "- n_neighbors: 고려할 최근접 이웃의 개수입니다.\n",
    "~~~\n",
    "\n",
    "위에서 주어진 참고 코드를 바탕으로 아래 주석에 맞게 코드를 작성해주세요."
   ]
  },
  {
   "cell_type": "code",
   "execution_count": 16,
   "id": "4045e574",
   "metadata": {},
   "outputs": [],
   "source": [
    "# sklearn.neighbors에서 KNeighborsClassifier를 import 해오세요.\n",
    "from sklearn.neighbors import KNeighborsClassifier\n",
    "\n",
    "# knn_model이라는 변수에 kNN 모델을 생성해주세요. 단, n_neighbors=5로 합니다.\n",
    "knn_model = KNeighborsClassifier(n_neighbors = 5)"
   ]
  },
  {
   "cell_type": "markdown",
   "id": "89faa12a",
   "metadata": {},
   "source": [
    "이제 모델을 학습, 평가하고 사용해보겠습니다."
   ]
  },
  {
   "cell_type": "code",
   "execution_count": 17,
   "id": "9aed45a4",
   "metadata": {},
   "outputs": [
    {
     "name": "stdout",
     "output_type": "stream",
     "text": [
      "kNN 모델의 정확도 :  0.7078651685393258\n",
      "              precision    recall  f1-score   support\n",
      "\n",
      "           1       0.77      0.88      0.82       130\n",
      "           2       0.38      0.25      0.30        36\n",
      "           3       0.50      0.25      0.33        12\n",
      "\n",
      "    accuracy                           0.71       178\n",
      "   macro avg       0.55      0.46      0.48       178\n",
      "weighted avg       0.67      0.71      0.68       178\n",
      "\n"
     ]
    },
    {
     "name": "stderr",
     "output_type": "stream",
     "text": [
      "C:\\Users\\owner\\anaconda3\\anaconda\\Lib\\site-packages\\sklearn\\neighbors\\_classification.py:238: DataConversionWarning: A column-vector y was passed when a 1d array was expected. Please change the shape of y to (n_samples,), for example using ravel().\n",
      "  return self._fit(X, y)\n",
      "C:\\Users\\owner\\AppData\\Local\\Temp\\ipykernel_23764\\1060574916.py:31: DeprecationWarning: Conversion of an array with ndim > 0 to a scalar is deprecated, and will error in future. Ensure you extract a single element from your array before performing this operation. (Deprecated NumPy 1.25.)\n",
      "  probability = prediction_proba[0][int(prediction)]  # 예측된 클래스의 확률을 반환합니다.\n"
     ]
    },
    {
     "data": {
      "text/plain": [
       "('S', 0.2)"
      ]
     },
     "execution_count": 17,
     "metadata": {},
     "output_type": "execute_result"
    }
   ],
   "source": [
    "# 모델 학습\n",
    "knn_model.fit(X_train_scaled, y_train)\n",
    "\n",
    "# 예측 수행\n",
    "knn_pred = knn_model.predict(X_test_scaled)\n",
    "\n",
    "# 정확도 측정\n",
    "knn_accuracy = accuracy_score(y_test, knn_pred)\n",
    "print(\"kNN 모델의 정확도 : \", knn_accuracy)\n",
    "\n",
    "# 분류 보고서 생성\n",
    "knn_report = classification_report(y_test, knn_pred)\n",
    "print(knn_report)\n",
    "\n",
    "# 생성한 모델로 예측값과 확률 도출\n",
    "model = knn_model\n",
    "\n",
    "result, probability = predict_survival(\n",
    "    model, scaler, \n",
    "    survived=1,\n",
    "    pclass=2, sex='female', age=32, \n",
    "    sibsp=1, parch=2, \n",
    "    fare=60, initial='Mrs'\n",
    ")\n",
    "\n",
    "\n",
    "result, probability"
   ]
  },
  {
   "cell_type": "code",
   "execution_count": null,
   "id": "433e87c1-96bc-4da4-838c-04c58da2c5a2",
   "metadata": {},
   "outputs": [],
   "source": []
  }
 ],
 "metadata": {
  "kernelspec": {
   "display_name": "Python 3 (ipykernel)",
   "language": "python",
   "name": "python3"
  },
  "language_info": {
   "codemirror_mode": {
    "name": "ipython",
    "version": 3
   },
   "file_extension": ".py",
   "mimetype": "text/x-python",
   "name": "python",
   "nbconvert_exporter": "python",
   "pygments_lexer": "ipython3",
   "version": "3.11.9"
  },
  "toc": {
   "base_numbering": 1,
   "nav_menu": {},
   "number_sections": true,
   "sideBar": true,
   "skip_h1_title": false,
   "title_cell": "Table of Contents",
   "title_sidebar": "Contents",
   "toc_cell": false,
   "toc_position": {
    "height": "calc(100% - 180px)",
    "left": "10px",
    "top": "150px",
    "width": "165px"
   },
   "toc_section_display": true,
   "toc_window_display": true
  }
 },
 "nbformat": 4,
 "nbformat_minor": 5
}
